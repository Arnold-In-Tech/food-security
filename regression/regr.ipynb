{
 "cells": [
  {
   "cell_type": "code",
   "execution_count": 1,
   "metadata": {},
   "outputs": [],
   "source": [
    "import pandas as pd\n",
    "import numpy as np\n"
   ]
  },
  {
   "cell_type": "markdown",
   "metadata": {},
   "source": [
    "### Import data: (Features = Independent Variables, Lables = Dependent)"
   ]
  },
  {
   "cell_type": "code",
   "execution_count": 2,
   "metadata": {},
   "outputs": [
    {
     "name": "stdout",
     "output_type": "stream",
     "text": [
      "   Worried  Healthy  FewFoods  Skipped  AteLess  RanOut  Hungry  WholeDay\n",
      "0        1        1         1        1        1       1       1         1\n",
      "1        1        1         1        1        1       1       2         2\n",
      "2        1        1         1        1        1       1       2         1\n",
      "3        1        1         1        1        1       1       2         2\n",
      "4        1        1         1        1        1       1       2         1\n",
      "   Chronic  Occasional  Break-even  Food surplus\n",
      "0      0.0         2.0         0.0           0.0\n",
      "1      0.0         2.0         0.0           0.0\n",
      "2      0.0         2.0         0.0           0.0\n",
      "3      0.0         2.0         0.0           0.0\n",
      "4      0.0         2.0         0.0           0.0\n"
     ]
    }
   ],
   "source": [
    "#Food security metrics\n",
    "fies_A = pd.read_csv(\"/home/arnold/Desktop/temp_file/ray_plots/regr/fies_r.csv\")\n",
    "fies_A = fies_A.iloc[:,1:]\n",
    "print(fies_A.head())\n",
    "\n",
    "fies_B = pd.read_csv(\"/home/arnold/Desktop/temp_file/ray_plots/regr/FIES_se_B_r.csv\")\n",
    "fies_B = fies_B.iloc[:,1:]\n",
    "fies_B = fies_B.replace(np.nan,0)  #replace nan with zero\n",
    "print(fies_B.head())\n"
   ]
  },
  {
   "cell_type": "code",
   "execution_count": 3,
   "metadata": {},
   "outputs": [],
   "source": [
    "\n",
    "#A: Demographics\n",
    "## Age\n",
    "A_Age = pd.read_csv(\"/home/arnold/Desktop/temp_file/ray_plots/regr/A_Age_r.csv\")\n",
    "A_Age = A_Age.iloc[:,1:]\n",
    "\n",
    "## Gender\n",
    "A_gender = pd.read_csv(\"/home/arnold/Desktop/temp_file/ray_plots/regr/A_gender_r.csv\")\n",
    "A_gender = A_gender.iloc[:,1:]\n",
    "\n",
    "## HH size\n",
    "A_HH_size = pd.read_csv(\"/home/arnold/Desktop/temp_file/ray_plots/regr/A_HH_size_r.csv\")\n",
    "A_HH_size = A_HH_size.iloc[:,1:]\n",
    "\n",
    "## years of schooling\n",
    "A_Schooling_Years = pd.read_csv(\"/home/arnold/Desktop/temp_file/ray_plots/regr/A_Schooling_Years_r.csv\")\n",
    "A_Schooling_Years = A_Schooling_Years.iloc[:,1:]\n",
    "\n",
    "\n",
    "#=====\n",
    "#B: Sorghum FarmSize\n",
    "B_S_FarmSize = pd.read_csv(\"/home/arnold/Desktop/temp_file/ray_plots/regr/B_S_FarmSize_r.csv\")\n",
    "B_S_FarmSize = B_S_FarmSize.iloc[:,1:]\n",
    "\n",
    "\n",
    "#=====\n",
    "#C: Contract\n",
    "C_contracted = pd.read_csv(\"/home/arnold/Desktop/temp_file/ray_plots/regr/C_contracted_r.csv\")\n",
    "C_contracted = C_contracted.iloc[:,1:]\n",
    "\n",
    "# M_Participation\n",
    "C_M_participation = pd.read_csv(\"/home/arnold/Desktop/temp_file/ray_plots/regr/C_M_participation_r.csv\")\n",
    "C_M_participation = C_M_participation.iloc[:,1:]\n",
    "\n",
    "\n",
    "# D: coop_member_r\n",
    "D_coop_member = pd.read_csv(\"/home/arnold/Desktop/temp_file/ray_plots/regr/D_coop_member_r.csv\")\n",
    "D_coop_member = D_coop_member.iloc[:,1:]\n",
    "\n",
    "# E: E_sorghum_sold_r\n",
    "E_sorghum_sold = pd.read_csv(\"/home/arnold/Desktop/temp_file/ray_plots/regr/E_sorghum_sold_r.csv\")\n",
    "E_sorghum_sold = E_sorghum_sold.iloc[:,1:]\n",
    "\n"
   ]
  },
  {
   "cell_type": "code",
   "execution_count": 4,
   "metadata": {},
   "outputs": [
    {
     "data": {
      "text/html": [
       "<div>\n",
       "<style scoped>\n",
       "    .dataframe tbody tr th:only-of-type {\n",
       "        vertical-align: middle;\n",
       "    }\n",
       "\n",
       "    .dataframe tbody tr th {\n",
       "        vertical-align: top;\n",
       "    }\n",
       "\n",
       "    .dataframe thead th {\n",
       "        text-align: right;\n",
       "    }\n",
       "</style>\n",
       "<table border=\"1\" class=\"dataframe\">\n",
       "  <thead>\n",
       "    <tr style=\"text-align: right;\">\n",
       "      <th></th>\n",
       "      <th>Age</th>\n",
       "      <th>Gender</th>\n",
       "      <th>Household_Size</th>\n",
       "      <th>Schooling_Years</th>\n",
       "      <th>S_FarmSize</th>\n",
       "      <th>Contract</th>\n",
       "      <th>O_market_participation</th>\n",
       "      <th>coop_membership</th>\n",
       "      <th>sorghum_sold</th>\n",
       "    </tr>\n",
       "  </thead>\n",
       "  <tbody>\n",
       "    <tr>\n",
       "      <th>0</th>\n",
       "      <td>3</td>\n",
       "      <td>2</td>\n",
       "      <td>2</td>\n",
       "      <td>8</td>\n",
       "      <td>3</td>\n",
       "      <td>2</td>\n",
       "      <td>1</td>\n",
       "      <td>2</td>\n",
       "      <td>1</td>\n",
       "    </tr>\n",
       "    <tr>\n",
       "      <th>1</th>\n",
       "      <td>3</td>\n",
       "      <td>1</td>\n",
       "      <td>1</td>\n",
       "      <td>8</td>\n",
       "      <td>6</td>\n",
       "      <td>2</td>\n",
       "      <td>2</td>\n",
       "      <td>2</td>\n",
       "      <td>2</td>\n",
       "    </tr>\n",
       "    <tr>\n",
       "      <th>2</th>\n",
       "      <td>3</td>\n",
       "      <td>2</td>\n",
       "      <td>1</td>\n",
       "      <td>8</td>\n",
       "      <td>5</td>\n",
       "      <td>2</td>\n",
       "      <td>2</td>\n",
       "      <td>2</td>\n",
       "      <td>2</td>\n",
       "    </tr>\n",
       "    <tr>\n",
       "      <th>3</th>\n",
       "      <td>3</td>\n",
       "      <td>1</td>\n",
       "      <td>1</td>\n",
       "      <td>6</td>\n",
       "      <td>1</td>\n",
       "      <td>2</td>\n",
       "      <td>2</td>\n",
       "      <td>2</td>\n",
       "      <td>2</td>\n",
       "    </tr>\n",
       "    <tr>\n",
       "      <th>4</th>\n",
       "      <td>2</td>\n",
       "      <td>2</td>\n",
       "      <td>1</td>\n",
       "      <td>6</td>\n",
       "      <td>3</td>\n",
       "      <td>2</td>\n",
       "      <td>2</td>\n",
       "      <td>2</td>\n",
       "      <td>2</td>\n",
       "    </tr>\n",
       "  </tbody>\n",
       "</table>\n",
       "</div>"
      ],
      "text/plain": [
       "   Age  Gender  Household_Size  Schooling_Years  S_FarmSize  Contract  \\\n",
       "0    3       2               2                8           3         2   \n",
       "1    3       1               1                8           6         2   \n",
       "2    3       2               1                8           5         2   \n",
       "3    3       1               1                6           1         2   \n",
       "4    2       2               1                6           3         2   \n",
       "\n",
       "   O_market_participation  coop_membership  sorghum_sold  \n",
       "0                       1                2             1  \n",
       "1                       2                2             2  \n",
       "2                       2                2             2  \n",
       "3                       2                2             2  \n",
       "4                       2                2             2  "
      ]
     },
     "execution_count": 4,
     "metadata": {},
     "output_type": "execute_result"
    }
   ],
   "source": [
    "#Combine dataframes\n",
    "features = pd.concat([A_Age, \n",
    "                    A_gender, \n",
    "                    A_HH_size, \n",
    "                    A_Schooling_Years, \n",
    "                    B_S_FarmSize, \n",
    "                    C_contracted, \n",
    "                    C_M_participation, \n",
    "                    D_coop_member, \n",
    "                    E_sorghum_sold], \n",
    "                   axis=1, \n",
    "                   join=\"inner\")\n",
    "features.head()\n",
    "\n"
   ]
  },
  {
   "cell_type": "markdown",
   "metadata": {},
   "source": [
    "### Merge Food Security categories (# \"Chronic\" and \"Occasional\" to Zero, \"Break-even\" and \"Food surplus\" to One)"
   ]
  },
  {
   "cell_type": "code",
   "execution_count": 5,
   "metadata": {},
   "outputs": [],
   "source": [
    "# Covert labels to binary\n",
    "# Chronic and Occasional to Zero, \n",
    "# \"Break-even\" and \"Food surplus\" to 1\n",
    "# Slide the categories columns into one array/collumn\n",
    "\n",
    "# Merge \"Chronic\" and \"occasional\"\n",
    "fies_B['FIES_status_0']= fies_B[[\"Chronic\", \"Occasional\"]].sum(axis=1)\n",
    "\n",
    "# Merge \"Break-even\" and \"Food surplus\"\n",
    "fies_B['FIES_status_1']= fies_B[[\"Break-even\", \"Food surplus\"]].sum(axis=1)\n",
    "fies_B\n",
    "\n",
    "#Replace 1 and 2 with zero \n",
    "fies_B['FIES_status_0'] = fies_B['FIES_status_0'].replace(1,0)  #replace nan with zero\n",
    "fies_B['FIES_status_0'] = fies_B['FIES_status_0'].replace(2,0)  #replace nan with zero\n",
    "\n",
    "#Replace 3 and 4 with zero \n",
    "fies_B['FIES_status_1'] = fies_B['FIES_status_1'].replace(3,1)  #replace nan with zero\n",
    "fies_B['FIES_status_1'] = fies_B['FIES_status_1'].replace(4,1)  #replace nan with zero\n",
    "\n",
    "\n",
    "# Merge  \"Chronic\", \"occasional\", \"Break-even\" and \"Food surplus\" into one array with zeros and ones, \n",
    "# and overwrite the fies status column\n",
    "\n",
    "fies_B['FIES_status']= fies_B[['FIES_status_0', 'FIES_status_1']].sum(axis=1)\n",
    "\n",
    "fies_B = fies_B.iloc[:,-1:]\n",
    "\n",
    "label = fies_B"
   ]
  },
  {
   "cell_type": "markdown",
   "metadata": {},
   "source": [
    "## 1. Test for Multicollinearity (Pearson's Correlation)"
   ]
  },
  {
   "cell_type": "code",
   "execution_count": 6,
   "metadata": {},
   "outputs": [
    {
     "data": {
      "text/html": [
       "<div>\n",
       "<style scoped>\n",
       "    .dataframe tbody tr th:only-of-type {\n",
       "        vertical-align: middle;\n",
       "    }\n",
       "\n",
       "    .dataframe tbody tr th {\n",
       "        vertical-align: top;\n",
       "    }\n",
       "\n",
       "    .dataframe thead th {\n",
       "        text-align: right;\n",
       "    }\n",
       "</style>\n",
       "<table border=\"1\" class=\"dataframe\">\n",
       "  <thead>\n",
       "    <tr style=\"text-align: right;\">\n",
       "      <th></th>\n",
       "      <th>FIES_status</th>\n",
       "      <th>Age</th>\n",
       "      <th>Gender</th>\n",
       "      <th>Household_Size</th>\n",
       "      <th>Schooling_Years</th>\n",
       "      <th>S_FarmSize</th>\n",
       "      <th>Contract</th>\n",
       "      <th>O_market_participation</th>\n",
       "      <th>coop_membership</th>\n",
       "      <th>sorghum_sold</th>\n",
       "    </tr>\n",
       "  </thead>\n",
       "  <tbody>\n",
       "    <tr>\n",
       "      <th>0</th>\n",
       "      <td>0.0</td>\n",
       "      <td>3</td>\n",
       "      <td>2</td>\n",
       "      <td>2</td>\n",
       "      <td>8</td>\n",
       "      <td>3</td>\n",
       "      <td>2</td>\n",
       "      <td>1</td>\n",
       "      <td>2</td>\n",
       "      <td>1</td>\n",
       "    </tr>\n",
       "    <tr>\n",
       "      <th>1</th>\n",
       "      <td>0.0</td>\n",
       "      <td>3</td>\n",
       "      <td>1</td>\n",
       "      <td>1</td>\n",
       "      <td>8</td>\n",
       "      <td>6</td>\n",
       "      <td>2</td>\n",
       "      <td>2</td>\n",
       "      <td>2</td>\n",
       "      <td>2</td>\n",
       "    </tr>\n",
       "    <tr>\n",
       "      <th>2</th>\n",
       "      <td>0.0</td>\n",
       "      <td>3</td>\n",
       "      <td>2</td>\n",
       "      <td>1</td>\n",
       "      <td>8</td>\n",
       "      <td>5</td>\n",
       "      <td>2</td>\n",
       "      <td>2</td>\n",
       "      <td>2</td>\n",
       "      <td>2</td>\n",
       "    </tr>\n",
       "    <tr>\n",
       "      <th>3</th>\n",
       "      <td>0.0</td>\n",
       "      <td>3</td>\n",
       "      <td>1</td>\n",
       "      <td>1</td>\n",
       "      <td>6</td>\n",
       "      <td>1</td>\n",
       "      <td>2</td>\n",
       "      <td>2</td>\n",
       "      <td>2</td>\n",
       "      <td>2</td>\n",
       "    </tr>\n",
       "    <tr>\n",
       "      <th>4</th>\n",
       "      <td>0.0</td>\n",
       "      <td>2</td>\n",
       "      <td>2</td>\n",
       "      <td>1</td>\n",
       "      <td>6</td>\n",
       "      <td>3</td>\n",
       "      <td>2</td>\n",
       "      <td>2</td>\n",
       "      <td>2</td>\n",
       "      <td>2</td>\n",
       "    </tr>\n",
       "  </tbody>\n",
       "</table>\n",
       "</div>"
      ],
      "text/plain": [
       "   FIES_status  Age  Gender  Household_Size  Schooling_Years  S_FarmSize  \\\n",
       "0          0.0    3       2               2                8           3   \n",
       "1          0.0    3       1               1                8           6   \n",
       "2          0.0    3       2               1                8           5   \n",
       "3          0.0    3       1               1                6           1   \n",
       "4          0.0    2       2               1                6           3   \n",
       "\n",
       "   Contract  O_market_participation  coop_membership  sorghum_sold  \n",
       "0         2                       1                2             1  \n",
       "1         2                       2                2             2  \n",
       "2         2                       2                2             2  \n",
       "3         2                       2                2             2  \n",
       "4         2                       2                2             2  "
      ]
     },
     "execution_count": 6,
     "metadata": {},
     "output_type": "execute_result"
    }
   ],
   "source": [
    "df_all = pd.concat([label,\n",
    "                    features], \n",
    "                   axis=1, \n",
    "                   join=\"inner\")\n",
    "df_all.head()"
   ]
  },
  {
   "cell_type": "code",
   "execution_count": 7,
   "metadata": {},
   "outputs": [],
   "source": [
    "# storing into the excel file\n",
    "#df_all.to_excel(\"output_data.xlsx\")\n"
   ]
  },
  {
   "cell_type": "code",
   "execution_count": 8,
   "metadata": {},
   "outputs": [
    {
     "data": {
      "image/png": "[encoded data removed]",
      "text/plain": [
       "<Figure size 1152x360 with 2 Axes>"
      ]
     },
     "metadata": {
      "needs_background": "light"
     },
     "output_type": "display_data"
    }
   ],
   "source": [
    "from matplotlib import pyplot as plt\n",
    "import seaborn as sns\n",
    "\n",
    "correlation = df_all.corr()\n",
    "#Export correlation matrix\n",
    "#correlation.to_csv(\"./correlation_.csv\", sep=',', encoding='utf-8')\n",
    "\n",
    "plt.rcParams.update({'font.size': 14})\n",
    "\n",
    "plt.figure(figsize=(16, 5))\n",
    "heatmap = sns.heatmap(correlation, annot=True, linewidths=0, vmin=-0.65, vmax=0.65, cmap=\"RdBu_r\")\n",
    "#Export heatmap\n",
    "#plt.savefig('Correlation.png',bbox_inches='tight', format='png', dpi=300, edgecolor='none', facecolor=heatmap.get_facecolor())\n"
   ]
  },
  {
   "cell_type": "markdown",
   "metadata": {},
   "source": [
    "#### >> Pearsons Correlation shows \"Contract\", \"Coop-membership\" & \"Sorghum sold\" exert high impact on Food Security (They show poor correlation)"
   ]
  },
  {
   "cell_type": "markdown",
   "metadata": {},
   "source": [
    "## 2. Pearsons Chi-Square Test\n",
    "### Method 1"
   ]
  },
  {
   "cell_type": "code",
   "execution_count": 9,
   "metadata": {},
   "outputs": [
    {
     "data": {
      "text/html": [
       "<div>\n",
       "<style scoped>\n",
       "    .dataframe tbody tr th:only-of-type {\n",
       "        vertical-align: middle;\n",
       "    }\n",
       "\n",
       "    .dataframe tbody tr th {\n",
       "        vertical-align: top;\n",
       "    }\n",
       "\n",
       "    .dataframe thead th {\n",
       "        text-align: right;\n",
       "    }\n",
       "</style>\n",
       "<table border=\"1\" class=\"dataframe\">\n",
       "  <thead>\n",
       "    <tr style=\"text-align: right;\">\n",
       "      <th></th>\n",
       "      <th>Age</th>\n",
       "      <th>Gender</th>\n",
       "      <th>Household_Size</th>\n",
       "      <th>Schooling_Years</th>\n",
       "      <th>S_FarmSize</th>\n",
       "      <th>Contract</th>\n",
       "      <th>O_market_participation</th>\n",
       "      <th>coop_membership</th>\n",
       "      <th>sorghum_sold</th>\n",
       "    </tr>\n",
       "  </thead>\n",
       "  <tbody>\n",
       "    <tr>\n",
       "      <th>0</th>\n",
       "      <td>3</td>\n",
       "      <td>2</td>\n",
       "      <td>2</td>\n",
       "      <td>8</td>\n",
       "      <td>3</td>\n",
       "      <td>2</td>\n",
       "      <td>1</td>\n",
       "      <td>2</td>\n",
       "      <td>1</td>\n",
       "    </tr>\n",
       "    <tr>\n",
       "      <th>1</th>\n",
       "      <td>3</td>\n",
       "      <td>1</td>\n",
       "      <td>1</td>\n",
       "      <td>8</td>\n",
       "      <td>6</td>\n",
       "      <td>2</td>\n",
       "      <td>2</td>\n",
       "      <td>2</td>\n",
       "      <td>2</td>\n",
       "    </tr>\n",
       "    <tr>\n",
       "      <th>2</th>\n",
       "      <td>3</td>\n",
       "      <td>2</td>\n",
       "      <td>1</td>\n",
       "      <td>8</td>\n",
       "      <td>5</td>\n",
       "      <td>2</td>\n",
       "      <td>2</td>\n",
       "      <td>2</td>\n",
       "      <td>2</td>\n",
       "    </tr>\n",
       "    <tr>\n",
       "      <th>3</th>\n",
       "      <td>3</td>\n",
       "      <td>1</td>\n",
       "      <td>1</td>\n",
       "      <td>6</td>\n",
       "      <td>1</td>\n",
       "      <td>2</td>\n",
       "      <td>2</td>\n",
       "      <td>2</td>\n",
       "      <td>2</td>\n",
       "    </tr>\n",
       "    <tr>\n",
       "      <th>4</th>\n",
       "      <td>2</td>\n",
       "      <td>2</td>\n",
       "      <td>1</td>\n",
       "      <td>6</td>\n",
       "      <td>3</td>\n",
       "      <td>2</td>\n",
       "      <td>2</td>\n",
       "      <td>2</td>\n",
       "      <td>2</td>\n",
       "    </tr>\n",
       "  </tbody>\n",
       "</table>\n",
       "</div>"
      ],
      "text/plain": [
       "   Age  Gender  Household_Size  Schooling_Years  S_FarmSize  Contract  \\\n",
       "0    3       2               2                8           3         2   \n",
       "1    3       1               1                8           6         2   \n",
       "2    3       2               1                8           5         2   \n",
       "3    3       1               1                6           1         2   \n",
       "4    2       2               1                6           3         2   \n",
       "\n",
       "   O_market_participation  coop_membership  sorghum_sold  \n",
       "0                       1                2             1  \n",
       "1                       2                2             2  \n",
       "2                       2                2             2  \n",
       "3                       2                2             2  \n",
       "4                       2                2             2  "
      ]
     },
     "execution_count": 9,
     "metadata": {},
     "output_type": "execute_result"
    }
   ],
   "source": [
    "import scipy.stats as stats\n",
    "\n",
    "# Data to be used for chi-square calculation looks like \n",
    "\n",
    "observed = features\n",
    "\n",
    "observed.head()  #Prints the first five lines of the table\n"
   ]
  },
  {
   "cell_type": "markdown",
   "metadata": {},
   "source": [
    "##### Tests whether respondents (0-207) vary based on the demographic/Vertical/Horizontal factors (Age, Gender,...Sorghum sold)\n",
    "#### Hypotheses\n",
    "    ##### H0: (null hypothesis) The two variables are independent.\n",
    "    ##### H1: (alternative hypothesis) The two variables are not independent."
   ]
  },
  {
   "cell_type": "code",
   "execution_count": 10,
   "metadata": {},
   "outputs": [
    {
     "name": "stdout",
     "output_type": "stream",
     "text": [
      "Chi-square statistic =  554.7625332058597\n",
      "P-value =  1.0\n",
      "Degree of freedom =  1648\n",
      "Expected values = \n",
      " [[4.02838137 1.67627494 1.27184035 ... 1.36762749 1.61773836 1.60709534]\n",
      " [4.53192905 1.88580931 1.4308204  ... 1.53858093 1.81995565 1.80798226]\n",
      " [4.53192905 1.88580931 1.4308204  ... 1.53858093 1.81995565 1.80798226]\n",
      " ...\n",
      " [2.68558758 1.11751663 0.84789357 ... 0.91175166 1.07849224 1.0713969 ]\n",
      " [3.02128603 1.25720621 0.95388027 ... 1.02572062 1.21330377 1.20532151]\n",
      " [4.53192905 1.88580931 1.4308204  ... 1.53858093 1.81995565 1.80798226]]\n"
     ]
    }
   ],
   "source": [
    "\n",
    "#Perform the Chi-Square Test of Independence \n",
    "\n",
    "stat, p, dof, expected = stats.chi2_contingency(observed= observed)\n",
    "\n",
    "# stat is the chi-square statistic\n",
    "# p is the p-value\n",
    "# dof is the degree of freedom\n",
    "# The expected values for each cell in the contingency table\n",
    "\n",
    "print(\"Chi-square statistic = \",stat)\n",
    "print(\"P-value = \", p)\n",
    "print(\"Degree of freedom = \", dof)\n",
    "print(\"Expected values = \\n\", expected)\n"
   ]
  },
  {
   "cell_type": "markdown",
   "metadata": {},
   "source": [
    "#\n",
    "#### Since the p-value (1.0) of the test is not less than 0.05, we fail to reject the null hypothesis. This means we do not have sufficient evidence to say that there is an association between Respondents and Demographic/Vertical/Horizontal factors.\n",
    "\n",
    "#### In other words, Respondents and Demographic/Vertical/Horizontal factors are independent.\n",
    "#"
   ]
  },
  {
   "cell_type": "markdown",
   "metadata": {},
   "source": [
    "### Method 2"
   ]
  },
  {
   "cell_type": "code",
   "execution_count": 11,
   "metadata": {},
   "outputs": [
    {
     "data": {
      "text/html": [
       "<div>\n",
       "<style scoped>\n",
       "    .dataframe tbody tr th:only-of-type {\n",
       "        vertical-align: middle;\n",
       "    }\n",
       "\n",
       "    .dataframe tbody tr th {\n",
       "        vertical-align: top;\n",
       "    }\n",
       "\n",
       "    .dataframe thead th {\n",
       "        text-align: right;\n",
       "    }\n",
       "</style>\n",
       "<table border=\"1\" class=\"dataframe\">\n",
       "  <thead>\n",
       "    <tr style=\"text-align: right;\">\n",
       "      <th></th>\n",
       "      <th>FIES_status</th>\n",
       "      <th>Age</th>\n",
       "      <th>Gender</th>\n",
       "      <th>Household_Size</th>\n",
       "      <th>Schooling_Years</th>\n",
       "      <th>S_FarmSize</th>\n",
       "      <th>Contract</th>\n",
       "      <th>O_market_participation</th>\n",
       "      <th>coop_membership</th>\n",
       "      <th>sorghum_sold</th>\n",
       "    </tr>\n",
       "  </thead>\n",
       "  <tbody>\n",
       "    <tr>\n",
       "      <th>0</th>\n",
       "      <td>0.0</td>\n",
       "      <td>3</td>\n",
       "      <td>2</td>\n",
       "      <td>2</td>\n",
       "      <td>8</td>\n",
       "      <td>3</td>\n",
       "      <td>2</td>\n",
       "      <td>1</td>\n",
       "      <td>2</td>\n",
       "      <td>1</td>\n",
       "    </tr>\n",
       "    <tr>\n",
       "      <th>1</th>\n",
       "      <td>0.0</td>\n",
       "      <td>3</td>\n",
       "      <td>1</td>\n",
       "      <td>1</td>\n",
       "      <td>8</td>\n",
       "      <td>6</td>\n",
       "      <td>2</td>\n",
       "      <td>2</td>\n",
       "      <td>2</td>\n",
       "      <td>2</td>\n",
       "    </tr>\n",
       "    <tr>\n",
       "      <th>2</th>\n",
       "      <td>0.0</td>\n",
       "      <td>3</td>\n",
       "      <td>2</td>\n",
       "      <td>1</td>\n",
       "      <td>8</td>\n",
       "      <td>5</td>\n",
       "      <td>2</td>\n",
       "      <td>2</td>\n",
       "      <td>2</td>\n",
       "      <td>2</td>\n",
       "    </tr>\n",
       "    <tr>\n",
       "      <th>3</th>\n",
       "      <td>0.0</td>\n",
       "      <td>3</td>\n",
       "      <td>1</td>\n",
       "      <td>1</td>\n",
       "      <td>6</td>\n",
       "      <td>1</td>\n",
       "      <td>2</td>\n",
       "      <td>2</td>\n",
       "      <td>2</td>\n",
       "      <td>2</td>\n",
       "    </tr>\n",
       "    <tr>\n",
       "      <th>4</th>\n",
       "      <td>0.0</td>\n",
       "      <td>2</td>\n",
       "      <td>2</td>\n",
       "      <td>1</td>\n",
       "      <td>6</td>\n",
       "      <td>3</td>\n",
       "      <td>2</td>\n",
       "      <td>2</td>\n",
       "      <td>2</td>\n",
       "      <td>2</td>\n",
       "    </tr>\n",
       "  </tbody>\n",
       "</table>\n",
       "</div>"
      ],
      "text/plain": [
       "   FIES_status  Age  Gender  Household_Size  Schooling_Years  S_FarmSize  \\\n",
       "0          0.0    3       2               2                8           3   \n",
       "1          0.0    3       1               1                8           6   \n",
       "2          0.0    3       2               1                8           5   \n",
       "3          0.0    3       1               1                6           1   \n",
       "4          0.0    2       2               1                6           3   \n",
       "\n",
       "   Contract  O_market_participation  coop_membership  sorghum_sold  \n",
       "0         2                       1                2             1  \n",
       "1         2                       2                2             2  \n",
       "2         2                       2                2             2  \n",
       "3         2                       2                2             2  \n",
       "4         2                       2                2             2  "
      ]
     },
     "execution_count": 11,
     "metadata": {},
     "output_type": "execute_result"
    }
   ],
   "source": [
    "df_all.head()  #complete table (including features (independent variables) and label (fies status))"
   ]
  },
  {
   "cell_type": "markdown",
   "metadata": {},
   "source": [
    "#### (i) Age vs FIES status\n"
   ]
  },
  {
   "cell_type": "code",
   "execution_count": 12,
   "metadata": {},
   "outputs": [
    {
     "data": {
      "text/html": [
       "<div>\n",
       "<style scoped>\n",
       "    .dataframe tbody tr th:only-of-type {\n",
       "        vertical-align: middle;\n",
       "    }\n",
       "\n",
       "    .dataframe tbody tr th {\n",
       "        vertical-align: top;\n",
       "    }\n",
       "\n",
       "    .dataframe thead th {\n",
       "        text-align: right;\n",
       "    }\n",
       "</style>\n",
       "<table border=\"1\" class=\"dataframe\">\n",
       "  <thead>\n",
       "    <tr style=\"text-align: right;\">\n",
       "      <th>FIES_status</th>\n",
       "      <th>0.0</th>\n",
       "      <th>1.0</th>\n",
       "    </tr>\n",
       "    <tr>\n",
       "      <th>Age</th>\n",
       "      <th></th>\n",
       "      <th></th>\n",
       "    </tr>\n",
       "  </thead>\n",
       "  <tbody>\n",
       "    <tr>\n",
       "      <th>1</th>\n",
       "      <td>0</td>\n",
       "      <td>1</td>\n",
       "    </tr>\n",
       "    <tr>\n",
       "      <th>2</th>\n",
       "      <td>10</td>\n",
       "      <td>26</td>\n",
       "    </tr>\n",
       "    <tr>\n",
       "      <th>3</th>\n",
       "      <td>27</td>\n",
       "      <td>32</td>\n",
       "    </tr>\n",
       "    <tr>\n",
       "      <th>4</th>\n",
       "      <td>15</td>\n",
       "      <td>33</td>\n",
       "    </tr>\n",
       "    <tr>\n",
       "      <th>5</th>\n",
       "      <td>16</td>\n",
       "      <td>47</td>\n",
       "    </tr>\n",
       "  </tbody>\n",
       "</table>\n",
       "</div>"
      ],
      "text/plain": [
       "FIES_status  0.0  1.0\n",
       "Age                  \n",
       "1              0    1\n",
       "2             10   26\n",
       "3             27   32\n",
       "4             15   33\n",
       "5             16   47"
      ]
     },
     "execution_count": 12,
     "metadata": {},
     "output_type": "execute_result"
    }
   ],
   "source": [
    "temp=df_all.groupby(['FIES_status', 'Age'])['Age'].agg(['count']).reset_index()\n",
    "\n",
    "a_v_f = pd.pivot_table(temp,values='count',index='Age',columns='FIES_status', fill_value=0)\n",
    "\n",
    "a_v_f"
   ]
  },
  {
   "cell_type": "code",
   "execution_count": 13,
   "metadata": {},
   "outputs": [
    {
     "name": "stdout",
     "output_type": "stream",
     "text": [
      ">> Age vs FIES status\n",
      "Chi-square statistic =  7.0109604223045165\n",
      "P-value =  0.1353101496643227\n",
      "Degree of freedom =  4\n",
      "Expected values = \n",
      " [[ 0.32850242  0.67149758]\n",
      " [11.82608696 24.17391304]\n",
      " [19.38164251 39.61835749]\n",
      " [15.76811594 32.23188406]\n",
      " [20.69565217 42.30434783]]\n"
     ]
    }
   ],
   "source": [
    "#Perform the Chi-Square Test of Independence \n",
    "\n",
    "stat, p, dof, expected = stats.chi2_contingency(observed= a_v_f)\n",
    "\n",
    "print(\">> Age vs FIES status\")\n",
    "print(\"Chi-square statistic = \",stat)\n",
    "print(\"P-value = \", p)\n",
    "print(\"Degree of freedom = \", dof)\n",
    "print(\"Expected values = \\n\", expected)\n"
   ]
  },
  {
   "cell_type": "markdown",
   "metadata": {},
   "source": [
    "#### (ii) Gender vs FIES status\n"
   ]
  },
  {
   "cell_type": "code",
   "execution_count": 14,
   "metadata": {},
   "outputs": [
    {
     "data": {
      "text/html": [
       "<div>\n",
       "<style scoped>\n",
       "    .dataframe tbody tr th:only-of-type {\n",
       "        vertical-align: middle;\n",
       "    }\n",
       "\n",
       "    .dataframe tbody tr th {\n",
       "        vertical-align: top;\n",
       "    }\n",
       "\n",
       "    .dataframe thead th {\n",
       "        text-align: right;\n",
       "    }\n",
       "</style>\n",
       "<table border=\"1\" class=\"dataframe\">\n",
       "  <thead>\n",
       "    <tr style=\"text-align: right;\">\n",
       "      <th>FIES_status</th>\n",
       "      <th>0.0</th>\n",
       "      <th>1.0</th>\n",
       "    </tr>\n",
       "    <tr>\n",
       "      <th>Gender</th>\n",
       "      <th></th>\n",
       "      <th></th>\n",
       "    </tr>\n",
       "  </thead>\n",
       "  <tbody>\n",
       "    <tr>\n",
       "      <th>1</th>\n",
       "      <td>34</td>\n",
       "      <td>65</td>\n",
       "    </tr>\n",
       "    <tr>\n",
       "      <th>2</th>\n",
       "      <td>34</td>\n",
       "      <td>74</td>\n",
       "    </tr>\n",
       "  </tbody>\n",
       "</table>\n",
       "</div>"
      ],
      "text/plain": [
       "FIES_status  0.0  1.0\n",
       "Gender               \n",
       "1             34   65\n",
       "2             34   74"
      ]
     },
     "execution_count": 14,
     "metadata": {},
     "output_type": "execute_result"
    }
   ],
   "source": [
    "temp=df_all.groupby(['FIES_status', 'Gender'])['Gender'].agg(['count']).reset_index()\n",
    "\n",
    "g_v_f = pd.pivot_table(temp,values='count',index='Gender',columns='FIES_status', fill_value=0)\n",
    "\n",
    "g_v_f"
   ]
  },
  {
   "cell_type": "code",
   "execution_count": 15,
   "metadata": {},
   "outputs": [
    {
     "name": "stdout",
     "output_type": "stream",
     "text": [
      ">> Gender vs FIES status\n",
      "Chi-square statistic =  0.08399196418266477\n",
      "P-value =  0.7719587881925758\n",
      "Degree of freedom =  1\n",
      "Expected values = \n",
      " [[32.52173913 66.47826087]\n",
      " [35.47826087 72.52173913]]\n"
     ]
    }
   ],
   "source": [
    "#Perform the Chi-Square Test of Independence \n",
    "\n",
    "stat, p, dof, expected = stats.chi2_contingency(observed= g_v_f)\n",
    "\n",
    "print(\">> Gender vs FIES status\")\n",
    "print(\"Chi-square statistic = \",stat)\n",
    "print(\"P-value = \", p)\n",
    "print(\"Degree of freedom = \", dof)\n",
    "print(\"Expected values = \\n\", expected)\n"
   ]
  },
  {
   "cell_type": "markdown",
   "metadata": {},
   "source": [
    "#### (iii) HouseholdSize vs FIES status\n"
   ]
  },
  {
   "cell_type": "code",
   "execution_count": 16,
   "metadata": {},
   "outputs": [
    {
     "data": {
      "text/html": [
       "<div>\n",
       "<style scoped>\n",
       "    .dataframe tbody tr th:only-of-type {\n",
       "        vertical-align: middle;\n",
       "    }\n",
       "\n",
       "    .dataframe tbody tr th {\n",
       "        vertical-align: top;\n",
       "    }\n",
       "\n",
       "    .dataframe thead th {\n",
       "        text-align: right;\n",
       "    }\n",
       "</style>\n",
       "<table border=\"1\" class=\"dataframe\">\n",
       "  <thead>\n",
       "    <tr style=\"text-align: right;\">\n",
       "      <th>FIES_status</th>\n",
       "      <th>0.0</th>\n",
       "      <th>1.0</th>\n",
       "    </tr>\n",
       "    <tr>\n",
       "      <th>Household_Size</th>\n",
       "      <th></th>\n",
       "      <th></th>\n",
       "    </tr>\n",
       "  </thead>\n",
       "  <tbody>\n",
       "    <tr>\n",
       "      <th>1</th>\n",
       "      <td>54</td>\n",
       "      <td>121</td>\n",
       "    </tr>\n",
       "    <tr>\n",
       "      <th>2</th>\n",
       "      <td>14</td>\n",
       "      <td>18</td>\n",
       "    </tr>\n",
       "  </tbody>\n",
       "</table>\n",
       "</div>"
      ],
      "text/plain": [
       "FIES_status     0.0  1.0\n",
       "Household_Size          \n",
       "1                54  121\n",
       "2                14   18"
      ]
     },
     "execution_count": 16,
     "metadata": {},
     "output_type": "execute_result"
    }
   ],
   "source": [
    "temp=df_all.groupby(['FIES_status', 'Household_Size'])['Household_Size'].agg(['count']).reset_index()\n",
    "\n",
    "hh_v_f = pd.pivot_table(temp,values='count',index='Household_Size',columns='FIES_status', fill_value=0)\n",
    "\n",
    "hh_v_f"
   ]
  },
  {
   "cell_type": "code",
   "execution_count": 17,
   "metadata": {},
   "outputs": [
    {
     "name": "stdout",
     "output_type": "stream",
     "text": [
      ">> Household_Size vs FIES status\n",
      "Chi-square statistic =  1.496022114556254\n",
      "P-value =  0.22128444047212384\n",
      "Degree of freedom =  1\n",
      "Expected values = \n",
      " [[ 57.48792271 117.51207729]\n",
      " [ 10.51207729  21.48792271]]\n"
     ]
    }
   ],
   "source": [
    "#Perform the Chi-Square Test of Independence \n",
    "\n",
    "stat, p, dof, expected = stats.chi2_contingency(observed= hh_v_f)\n",
    "\n",
    "print(\">> Household_Size vs FIES status\")\n",
    "print(\"Chi-square statistic = \",stat)\n",
    "print(\"P-value = \", p)\n",
    "print(\"Degree of freedom = \", dof)\n",
    "print(\"Expected values = \\n\", expected)\n"
   ]
  },
  {
   "cell_type": "markdown",
   "metadata": {},
   "source": [
    "#### (iv) Schooling_Years vs FIES status\n"
   ]
  },
  {
   "cell_type": "code",
   "execution_count": 18,
   "metadata": {},
   "outputs": [
    {
     "data": {
      "text/html": [
       "<div>\n",
       "<style scoped>\n",
       "    .dataframe tbody tr th:only-of-type {\n",
       "        vertical-align: middle;\n",
       "    }\n",
       "\n",
       "    .dataframe tbody tr th {\n",
       "        vertical-align: top;\n",
       "    }\n",
       "\n",
       "    .dataframe thead th {\n",
       "        text-align: right;\n",
       "    }\n",
       "</style>\n",
       "<table border=\"1\" class=\"dataframe\">\n",
       "  <thead>\n",
       "    <tr style=\"text-align: right;\">\n",
       "      <th>FIES_status</th>\n",
       "      <th>0.0</th>\n",
       "      <th>1.0</th>\n",
       "    </tr>\n",
       "    <tr>\n",
       "      <th>Schooling_Years</th>\n",
       "      <th></th>\n",
       "      <th></th>\n",
       "    </tr>\n",
       "  </thead>\n",
       "  <tbody>\n",
       "    <tr>\n",
       "      <th>1</th>\n",
       "      <td>2</td>\n",
       "      <td>8</td>\n",
       "    </tr>\n",
       "    <tr>\n",
       "      <th>2</th>\n",
       "      <td>2</td>\n",
       "      <td>4</td>\n",
       "    </tr>\n",
       "    <tr>\n",
       "      <th>3</th>\n",
       "      <td>2</td>\n",
       "      <td>6</td>\n",
       "    </tr>\n",
       "    <tr>\n",
       "      <th>4</th>\n",
       "      <td>26</td>\n",
       "      <td>26</td>\n",
       "    </tr>\n",
       "    <tr>\n",
       "      <th>5</th>\n",
       "      <td>4</td>\n",
       "      <td>17</td>\n",
       "    </tr>\n",
       "    <tr>\n",
       "      <th>6</th>\n",
       "      <td>17</td>\n",
       "      <td>41</td>\n",
       "    </tr>\n",
       "    <tr>\n",
       "      <th>7</th>\n",
       "      <td>3</td>\n",
       "      <td>16</td>\n",
       "    </tr>\n",
       "    <tr>\n",
       "      <th>8</th>\n",
       "      <td>12</td>\n",
       "      <td>21</td>\n",
       "    </tr>\n",
       "  </tbody>\n",
       "</table>\n",
       "</div>"
      ],
      "text/plain": [
       "FIES_status      0.0  1.0\n",
       "Schooling_Years          \n",
       "1                  2    8\n",
       "2                  2    4\n",
       "3                  2    6\n",
       "4                 26   26\n",
       "5                  4   17\n",
       "6                 17   41\n",
       "7                  3   16\n",
       "8                 12   21"
      ]
     },
     "execution_count": 18,
     "metadata": {},
     "output_type": "execute_result"
    }
   ],
   "source": [
    "temp=df_all.groupby(['FIES_status', 'Schooling_Years'])['Schooling_Years'].agg(['count']).reset_index()\n",
    "\n",
    "sy_v_f = pd.pivot_table(temp,values='count',index='Schooling_Years',columns='FIES_status', fill_value=0)\n",
    "\n",
    "sy_v_f"
   ]
  },
  {
   "cell_type": "code",
   "execution_count": 19,
   "metadata": {},
   "outputs": [
    {
     "name": "stdout",
     "output_type": "stream",
     "text": [
      ">> Schooling_Years vs FIES status\n",
      "Chi-square statistic =  12.740851731176981\n",
      "P-value =  0.07867993174332491\n",
      "Degree of freedom =  7\n",
      "Expected values = \n",
      " [[ 3.28502415  6.71497585]\n",
      " [ 1.97101449  4.02898551]\n",
      " [ 2.62801932  5.37198068]\n",
      " [17.0821256  34.9178744 ]\n",
      " [ 6.89855072 14.10144928]\n",
      " [19.0531401  38.9468599 ]\n",
      " [ 6.24154589 12.75845411]\n",
      " [10.84057971 22.15942029]]\n"
     ]
    }
   ],
   "source": [
    "#Perform the Chi-Square Test of Independence \n",
    "\n",
    "stat, p, dof, expected = stats.chi2_contingency(observed= sy_v_f)\n",
    "\n",
    "print(\">> Schooling_Years vs FIES status\")\n",
    "print(\"Chi-square statistic = \",stat)\n",
    "print(\"P-value = \", p)\n",
    "print(\"Degree of freedom = \", dof)\n",
    "print(\"Expected values = \\n\", expected)\n"
   ]
  },
  {
   "cell_type": "markdown",
   "metadata": {},
   "source": [
    "#### (v) S_FarmSize vs FIES status\n"
   ]
  },
  {
   "cell_type": "code",
   "execution_count": 20,
   "metadata": {},
   "outputs": [
    {
     "data": {
      "text/html": [
       "<div>\n",
       "<style scoped>\n",
       "    .dataframe tbody tr th:only-of-type {\n",
       "        vertical-align: middle;\n",
       "    }\n",
       "\n",
       "    .dataframe tbody tr th {\n",
       "        vertical-align: top;\n",
       "    }\n",
       "\n",
       "    .dataframe thead th {\n",
       "        text-align: right;\n",
       "    }\n",
       "</style>\n",
       "<table border=\"1\" class=\"dataframe\">\n",
       "  <thead>\n",
       "    <tr style=\"text-align: right;\">\n",
       "      <th>FIES_status</th>\n",
       "      <th>0.0</th>\n",
       "      <th>1.0</th>\n",
       "    </tr>\n",
       "    <tr>\n",
       "      <th>S_FarmSize</th>\n",
       "      <th></th>\n",
       "      <th></th>\n",
       "    </tr>\n",
       "  </thead>\n",
       "  <tbody>\n",
       "    <tr>\n",
       "      <th>1</th>\n",
       "      <td>5</td>\n",
       "      <td>8</td>\n",
       "    </tr>\n",
       "    <tr>\n",
       "      <th>2</th>\n",
       "      <td>18</td>\n",
       "      <td>13</td>\n",
       "    </tr>\n",
       "    <tr>\n",
       "      <th>3</th>\n",
       "      <td>9</td>\n",
       "      <td>9</td>\n",
       "    </tr>\n",
       "    <tr>\n",
       "      <th>4</th>\n",
       "      <td>12</td>\n",
       "      <td>30</td>\n",
       "    </tr>\n",
       "    <tr>\n",
       "      <th>5</th>\n",
       "      <td>4</td>\n",
       "      <td>8</td>\n",
       "    </tr>\n",
       "    <tr>\n",
       "      <th>6</th>\n",
       "      <td>20</td>\n",
       "      <td>69</td>\n",
       "    </tr>\n",
       "    <tr>\n",
       "      <th>8</th>\n",
       "      <td>0</td>\n",
       "      <td>2</td>\n",
       "    </tr>\n",
       "  </tbody>\n",
       "</table>\n",
       "</div>"
      ],
      "text/plain": [
       "FIES_status  0.0  1.0\n",
       "S_FarmSize           \n",
       "1              5    8\n",
       "2             18   13\n",
       "3              9    9\n",
       "4             12   30\n",
       "5              4    8\n",
       "6             20   69\n",
       "8              0    2"
      ]
     },
     "execution_count": 20,
     "metadata": {},
     "output_type": "execute_result"
    }
   ],
   "source": [
    "temp=df_all.groupby(['FIES_status', 'S_FarmSize'])['S_FarmSize'].agg(['count']).reset_index()\n",
    "\n",
    "sfs_v_f = pd.pivot_table(temp,values='count',index='S_FarmSize',columns='FIES_status', fill_value=0)\n",
    "\n",
    "sfs_v_f"
   ]
  },
  {
   "cell_type": "code",
   "execution_count": 21,
   "metadata": {},
   "outputs": [
    {
     "name": "stdout",
     "output_type": "stream",
     "text": [
      ">> S_FarmSize vs FIES status\n",
      "Chi-square statistic =  17.19405594487957\n",
      "P-value =  0.00859590521539936\n",
      "Degree of freedom =  6\n",
      "Expected values = \n",
      " [[ 4.2705314   8.7294686 ]\n",
      " [10.18357488 20.81642512]\n",
      " [ 5.91304348 12.08695652]\n",
      " [13.79710145 28.20289855]\n",
      " [ 3.94202899  8.05797101]\n",
      " [29.23671498 59.76328502]\n",
      " [ 0.65700483  1.34299517]]\n"
     ]
    }
   ],
   "source": [
    "#Perform the Chi-Square Test of Independence \n",
    "\n",
    "stat, p, dof, expected = stats.chi2_contingency(observed= sfs_v_f)\n",
    "\n",
    "print(\">> S_FarmSize vs FIES status\")\n",
    "print(\"Chi-square statistic = \",stat)\n",
    "print(\"P-value = \", p)\n",
    "print(\"Degree of freedom = \", dof)\n",
    "print(\"Expected values = \\n\", expected)\n"
   ]
  },
  {
   "cell_type": "markdown",
   "metadata": {},
   "source": [
    "#### (vi) Contract vs FIES status\n"
   ]
  },
  {
   "cell_type": "code",
   "execution_count": 22,
   "metadata": {},
   "outputs": [
    {
     "data": {
      "text/html": [
       "<div>\n",
       "<style scoped>\n",
       "    .dataframe tbody tr th:only-of-type {\n",
       "        vertical-align: middle;\n",
       "    }\n",
       "\n",
       "    .dataframe tbody tr th {\n",
       "        vertical-align: top;\n",
       "    }\n",
       "\n",
       "    .dataframe thead th {\n",
       "        text-align: right;\n",
       "    }\n",
       "</style>\n",
       "<table border=\"1\" class=\"dataframe\">\n",
       "  <thead>\n",
       "    <tr style=\"text-align: right;\">\n",
       "      <th>FIES_status</th>\n",
       "      <th>0.0</th>\n",
       "      <th>1.0</th>\n",
       "    </tr>\n",
       "    <tr>\n",
       "      <th>Contract</th>\n",
       "      <th></th>\n",
       "      <th></th>\n",
       "    </tr>\n",
       "  </thead>\n",
       "  <tbody>\n",
       "    <tr>\n",
       "      <th>1</th>\n",
       "      <td>4</td>\n",
       "      <td>85</td>\n",
       "    </tr>\n",
       "    <tr>\n",
       "      <th>2</th>\n",
       "      <td>64</td>\n",
       "      <td>54</td>\n",
       "    </tr>\n",
       "  </tbody>\n",
       "</table>\n",
       "</div>"
      ],
      "text/plain": [
       "FIES_status  0.0  1.0\n",
       "Contract             \n",
       "1              4   85\n",
       "2             64   54"
      ]
     },
     "execution_count": 22,
     "metadata": {},
     "output_type": "execute_result"
    }
   ],
   "source": [
    "temp=df_all.groupby(['FIES_status', 'Contract'])['Contract'].agg(['count']).reset_index()\n",
    "\n",
    "c_v_f = pd.pivot_table(temp,values='count',index='Contract',columns='FIES_status', fill_value=0)\n",
    "\n",
    "c_v_f"
   ]
  },
  {
   "cell_type": "code",
   "execution_count": 23,
   "metadata": {},
   "outputs": [
    {
     "name": "stdout",
     "output_type": "stream",
     "text": [
      ">> Contract vs FIES status\n",
      "Chi-square statistic =  54.676330435477986\n",
      "P-value =  1.421075568718685e-13\n",
      "Degree of freedom =  1\n",
      "Expected values = \n",
      " [[29.23671498 59.76328502]\n",
      " [38.76328502 79.23671498]]\n"
     ]
    }
   ],
   "source": [
    "#Perform the Chi-Square Test of Independence \n",
    "\n",
    "stat, p, dof, expected = stats.chi2_contingency(observed= c_v_f)\n",
    "\n",
    "print(\">> Contract vs FIES status\")\n",
    "print(\"Chi-square statistic = \",stat)\n",
    "print(\"P-value = \", p)\n",
    "print(\"Degree of freedom = \", dof)\n",
    "print(\"Expected values = \\n\", expected)\n"
   ]
  },
  {
   "cell_type": "markdown",
   "metadata": {},
   "source": [
    "#### (vii) O_market_participation vs FIES status\n"
   ]
  },
  {
   "cell_type": "code",
   "execution_count": 24,
   "metadata": {},
   "outputs": [
    {
     "data": {
      "text/html": [
       "<div>\n",
       "<style scoped>\n",
       "    .dataframe tbody tr th:only-of-type {\n",
       "        vertical-align: middle;\n",
       "    }\n",
       "\n",
       "    .dataframe tbody tr th {\n",
       "        vertical-align: top;\n",
       "    }\n",
       "\n",
       "    .dataframe thead th {\n",
       "        text-align: right;\n",
       "    }\n",
       "</style>\n",
       "<table border=\"1\" class=\"dataframe\">\n",
       "  <thead>\n",
       "    <tr style=\"text-align: right;\">\n",
       "      <th>FIES_status</th>\n",
       "      <th>0.0</th>\n",
       "      <th>1.0</th>\n",
       "    </tr>\n",
       "    <tr>\n",
       "      <th>O_market_participation</th>\n",
       "      <th></th>\n",
       "      <th></th>\n",
       "    </tr>\n",
       "  </thead>\n",
       "  <tbody>\n",
       "    <tr>\n",
       "      <th>0</th>\n",
       "      <td>25</td>\n",
       "      <td>14</td>\n",
       "    </tr>\n",
       "    <tr>\n",
       "      <th>1</th>\n",
       "      <td>14</td>\n",
       "      <td>65</td>\n",
       "    </tr>\n",
       "    <tr>\n",
       "      <th>2</th>\n",
       "      <td>29</td>\n",
       "      <td>60</td>\n",
       "    </tr>\n",
       "  </tbody>\n",
       "</table>\n",
       "</div>"
      ],
      "text/plain": [
       "FIES_status             0.0  1.0\n",
       "O_market_participation          \n",
       "0                        25   14\n",
       "1                        14   65\n",
       "2                        29   60"
      ]
     },
     "execution_count": 24,
     "metadata": {},
     "output_type": "execute_result"
    }
   ],
   "source": [
    "temp=df_all.groupby(['FIES_status', 'O_market_participation'])['O_market_participation'].agg(['count']).reset_index()\n",
    "\n",
    "omp_v_f = pd.pivot_table(temp,values='count',index='O_market_participation',columns='FIES_status', fill_value=0)\n",
    "\n",
    "omp_v_f"
   ]
  },
  {
   "cell_type": "code",
   "execution_count": 25,
   "metadata": {},
   "outputs": [
    {
     "name": "stdout",
     "output_type": "stream",
     "text": [
      ">> O_market_participation vs FIES status\n",
      "Chi-square statistic =  25.46789898732408\n",
      "P-value =  2.9492799750387896e-06\n",
      "Degree of freedom =  2\n",
      "Expected values = \n",
      " [[12.8115942  26.1884058 ]\n",
      " [25.95169082 53.04830918]\n",
      " [29.23671498 59.76328502]]\n"
     ]
    }
   ],
   "source": [
    "#Perform the Chi-Square Test of Independence \n",
    "\n",
    "stat, p, dof, expected = stats.chi2_contingency(observed= omp_v_f)\n",
    "\n",
    "print(\">> O_market_participation vs FIES status\")\n",
    "print(\"Chi-square statistic = \",stat)\n",
    "print(\"P-value = \", p)\n",
    "print(\"Degree of freedom = \", dof)\n",
    "print(\"Expected values = \\n\", expected)\n"
   ]
  },
  {
   "cell_type": "markdown",
   "metadata": {},
   "source": [
    "#### (viii) coop_membership vs FIES status\n"
   ]
  },
  {
   "cell_type": "code",
   "execution_count": 26,
   "metadata": {},
   "outputs": [
    {
     "data": {
      "text/html": [
       "<div>\n",
       "<style scoped>\n",
       "    .dataframe tbody tr th:only-of-type {\n",
       "        vertical-align: middle;\n",
       "    }\n",
       "\n",
       "    .dataframe tbody tr th {\n",
       "        vertical-align: top;\n",
       "    }\n",
       "\n",
       "    .dataframe thead th {\n",
       "        text-align: right;\n",
       "    }\n",
       "</style>\n",
       "<table border=\"1\" class=\"dataframe\">\n",
       "  <thead>\n",
       "    <tr style=\"text-align: right;\">\n",
       "      <th>FIES_status</th>\n",
       "      <th>0.0</th>\n",
       "      <th>1.0</th>\n",
       "    </tr>\n",
       "    <tr>\n",
       "      <th>coop_membership</th>\n",
       "      <th></th>\n",
       "      <th></th>\n",
       "    </tr>\n",
       "  </thead>\n",
       "  <tbody>\n",
       "    <tr>\n",
       "      <th>1</th>\n",
       "      <td>10</td>\n",
       "      <td>100</td>\n",
       "    </tr>\n",
       "    <tr>\n",
       "      <th>2</th>\n",
       "      <td>58</td>\n",
       "      <td>39</td>\n",
       "    </tr>\n",
       "  </tbody>\n",
       "</table>\n",
       "</div>"
      ],
      "text/plain": [
       "FIES_status      0.0  1.0\n",
       "coop_membership          \n",
       "1                 10  100\n",
       "2                 58   39"
      ]
     },
     "execution_count": 26,
     "metadata": {},
     "output_type": "execute_result"
    }
   ],
   "source": [
    "temp=df_all.groupby(['FIES_status', 'coop_membership'])['coop_membership'].agg(['count']).reset_index()\n",
    "\n",
    "cm_v_f = pd.pivot_table(temp,values='count',index='coop_membership',columns='FIES_status', fill_value=0)\n",
    "\n",
    "cm_v_f"
   ]
  },
  {
   "cell_type": "code",
   "execution_count": 27,
   "metadata": {},
   "outputs": [
    {
     "name": "stdout",
     "output_type": "stream",
     "text": [
      ">> coop_membership vs FIES status\n",
      "Chi-square statistic =  57.79610217967089\n",
      "P-value =  2.907452778445054e-14\n",
      "Degree of freedom =  1\n",
      "Expected values = \n",
      " [[36.1352657 73.8647343]\n",
      " [31.8647343 65.1352657]]\n"
     ]
    }
   ],
   "source": [
    "#Perform the Chi-Square Test of Independence \n",
    "\n",
    "stat, p, dof, expected = stats.chi2_contingency(observed= cm_v_f)\n",
    "\n",
    "print(\">> coop_membership vs FIES status\")\n",
    "print(\"Chi-square statistic = \",stat)\n",
    "print(\"P-value = \", p)\n",
    "print(\"Degree of freedom = \", dof)\n",
    "print(\"Expected values = \\n\", expected)\n"
   ]
  },
  {
   "cell_type": "markdown",
   "metadata": {},
   "source": [
    "#### (viii) sorghum_sold vs FIES status\n"
   ]
  },
  {
   "cell_type": "code",
   "execution_count": 28,
   "metadata": {},
   "outputs": [
    {
     "data": {
      "text/html": [
       "<div>\n",
       "<style scoped>\n",
       "    .dataframe tbody tr th:only-of-type {\n",
       "        vertical-align: middle;\n",
       "    }\n",
       "\n",
       "    .dataframe tbody tr th {\n",
       "        vertical-align: top;\n",
       "    }\n",
       "\n",
       "    .dataframe thead th {\n",
       "        text-align: right;\n",
       "    }\n",
       "</style>\n",
       "<table border=\"1\" class=\"dataframe\">\n",
       "  <thead>\n",
       "    <tr style=\"text-align: right;\">\n",
       "      <th>FIES_status</th>\n",
       "      <th>0.0</th>\n",
       "      <th>1.0</th>\n",
       "    </tr>\n",
       "    <tr>\n",
       "      <th>sorghum_sold</th>\n",
       "      <th></th>\n",
       "      <th></th>\n",
       "    </tr>\n",
       "  </thead>\n",
       "  <tbody>\n",
       "    <tr>\n",
       "      <th>0</th>\n",
       "      <td>0</td>\n",
       "      <td>1</td>\n",
       "    </tr>\n",
       "    <tr>\n",
       "      <th>1</th>\n",
       "      <td>17</td>\n",
       "      <td>94</td>\n",
       "    </tr>\n",
       "    <tr>\n",
       "      <th>2</th>\n",
       "      <td>51</td>\n",
       "      <td>43</td>\n",
       "    </tr>\n",
       "    <tr>\n",
       "      <th>3</th>\n",
       "      <td>0</td>\n",
       "      <td>1</td>\n",
       "    </tr>\n",
       "  </tbody>\n",
       "</table>\n",
       "</div>"
      ],
      "text/plain": [
       "FIES_status   0.0  1.0\n",
       "sorghum_sold          \n",
       "0               0    1\n",
       "1              17   94\n",
       "2              51   43\n",
       "3               0    1"
      ]
     },
     "execution_count": 28,
     "metadata": {},
     "output_type": "execute_result"
    }
   ],
   "source": [
    "temp=df_all.groupby(['FIES_status', 'sorghum_sold'])['sorghum_sold'].agg(['count']).reset_index()\n",
    "\n",
    "ss_v_f = pd.pivot_table(temp,values='count',index='sorghum_sold',columns='FIES_status', fill_value=0)\n",
    "\n",
    "ss_v_f"
   ]
  },
  {
   "cell_type": "code",
   "execution_count": 29,
   "metadata": {},
   "outputs": [
    {
     "name": "stdout",
     "output_type": "stream",
     "text": [
      ">> sorghum_sold vs FIES status\n",
      "Chi-square statistic =  35.974900298277774\n",
      "P-value =  7.58043914797869e-08\n",
      "Degree of freedom =  3\n",
      "Expected values = \n",
      " [[ 0.32850242  0.67149758]\n",
      " [36.46376812 74.53623188]\n",
      " [30.87922705 63.12077295]\n",
      " [ 0.32850242  0.67149758]]\n"
     ]
    }
   ],
   "source": [
    "#Perform the Chi-Square Test of Independence \n",
    "\n",
    "stat, p, dof, expected = stats.chi2_contingency(observed= ss_v_f)\n",
    "\n",
    "print(\">> sorghum_sold vs FIES status\")\n",
    "print(\"Chi-square statistic = \",stat)\n",
    "print(\"P-value = \", p)\n",
    "print(\"Degree of freedom = \", dof)\n",
    "print(\"Expected values = \\n\", expected)\n"
   ]
  },
  {
   "cell_type": "markdown",
   "metadata": {},
   "source": [
    "## 3. Recursive feature elimmination"
   ]
  },
  {
   "cell_type": "markdown",
   "metadata": {},
   "source": [
    "##### Transform feature data to between 0 and 1 (Normalize)"
   ]
  },
  {
   "cell_type": "code",
   "execution_count": 30,
   "metadata": {},
   "outputs": [],
   "source": [
    "from sklearn import preprocessing\n",
    "\n",
    "# Feature data\n",
    "X = df_all[[i for i in df_all if i != 'FIES_status']]\n",
    "\n",
    "scaler = preprocessing.MinMaxScaler()\n",
    "features = scaler.fit_transform(X)\n",
    "\n",
    "features = pd.DataFrame(features, columns=X.columns)\n"
   ]
  },
  {
   "cell_type": "markdown",
   "metadata": {},
   "source": [
    "#### Summary statistics"
   ]
  },
  {
   "cell_type": "code",
   "execution_count": 31,
   "metadata": {},
   "outputs": [
    {
     "name": "stdout",
     "output_type": "stream",
     "text": [
      "              Age      Gender  Household_Size  Schooling_Years  S_FarmSize  \\\n",
      "count  207.000000  207.000000      207.000000       207.000000  207.000000   \n",
      "mean     0.664251    0.521739        0.154589         0.619048    0.483092   \n",
      "std      0.275764    0.500738        0.362389         0.264467    0.249598   \n",
      "min      0.000000    0.000000        0.000000         0.000000    0.000000   \n",
      "25%      0.500000    0.000000        0.000000         0.428571    0.285714   \n",
      "50%      0.750000    1.000000        0.000000         0.714286    0.428571   \n",
      "75%      1.000000    1.000000        0.000000         0.785714    0.714286   \n",
      "max      1.000000    1.000000        1.000000         1.000000    1.000000   \n",
      "\n",
      "         Contract  O_market_participation  coop_membership  sorghum_sold  \n",
      "count  207.000000              207.000000       207.000000    207.000000  \n",
      "mean     0.570048                0.620773         0.468599      0.486312  \n",
      "std      0.496269                0.375077         0.500223      0.172864  \n",
      "min      0.000000                0.000000         0.000000      0.000000  \n",
      "25%      0.000000                0.500000         0.000000      0.333333  \n",
      "50%      1.000000                0.500000         0.000000      0.333333  \n",
      "75%      1.000000                1.000000         1.000000      0.666667  \n",
      "max      1.000000                1.000000         1.000000      1.000000  \n"
     ]
    }
   ],
   "source": [
    "print(features.describe())\n"
   ]
  },
  {
   "cell_type": "markdown",
   "metadata": {},
   "source": [
    "#### Use Recursive Feature Elimination (RFE) to identify relevant features "
   ]
  },
  {
   "cell_type": "code",
   "execution_count": 32,
   "metadata": {},
   "outputs": [
    {
     "name": "stdout",
     "output_type": "stream",
     "text": [
      "[ True  True  True  True  True  True  True  True  True]\n",
      "[1 1 1 1 1 1 1 1 1]\n"
     ]
    }
   ],
   "source": [
    "from sklearn.feature_selection import RFE\n",
    "from sklearn.linear_model import LogisticRegression\n",
    "\n",
    "\n",
    "df_vars = df_all.columns.values.tolist()\n",
    "\n",
    "y = df_all[['FIES_status']]\n",
    "X = features\n",
    "\n",
    "# Transform features & labels into numpy arrays\n",
    "X = np.array(X)\n",
    "y = np.array(y)\n",
    "\n",
    "logreg = LogisticRegression()\n",
    "rfe = RFE(logreg, n_features_to_select=9, step=1)\n",
    "rfe = rfe.fit(X, y.ravel())\n",
    "print(rfe.support_)\n",
    "print(rfe.ranking_)\n"
   ]
  },
  {
   "cell_type": "markdown",
   "metadata": {},
   "source": [
    "#### >> RFE shows that all the features in our dataset are relevant for modeling "
   ]
  },
  {
   "cell_type": "markdown",
   "metadata": {},
   "source": [
    "## 4. Probit regression"
   ]
  },
  {
   "cell_type": "markdown",
   "metadata": {},
   "source": [
    "#### Use the statsmodels function to fit our Probit regression with our response variable (FIES_status) and predictor matrix (features)"
   ]
  },
  {
   "cell_type": "code",
   "execution_count": 33,
   "metadata": {},
   "outputs": [
    {
     "name": "stdout",
     "output_type": "stream",
     "text": [
      "Optimization terminated successfully.\n",
      "         Current function value: 0.400608\n",
      "         Iterations 7\n",
      "                          Probit Regression Results                           \n",
      "==============================================================================\n",
      "Dep. Variable:            FIES_status   No. Observations:                  207\n",
      "Model:                         Probit   Df Residuals:                      197\n",
      "Method:                           MLE   Df Model:                            9\n",
      "Date:                Sun, 10 Sep 2023   Pseudo R-squ.:                  0.3672\n",
      "Time:                        21:00:56   Log-Likelihood:                -82.926\n",
      "converged:                       True   LL-Null:                       -131.05\n",
      "Covariance Type:            nonrobust   LLR p-value:                 8.972e-17\n",
      "==========================================================================================\n",
      "                             coef    std err          z      P>|z|      [0.025      0.975]\n",
      "------------------------------------------------------------------------------------------\n",
      "Age                        0.0668      0.479      0.140      0.889      -0.871       1.005\n",
      "Gender                     0.0482      0.229      0.210      0.833      -0.401       0.497\n",
      "Household_Size            -0.5096      0.301     -1.690      0.091      -1.100       0.081\n",
      "Schooling_Years            0.6905      0.476      1.450      0.147      -0.243       1.624\n",
      "S_FarmSize                 0.5609      0.497      1.129      0.259      -0.413       1.534\n",
      "Contract                  -1.1900      0.332     -3.579      0.000      -1.842      -0.538\n",
      "O_market_participation     0.3624      0.306      1.186      0.236      -0.237       0.961\n",
      "coop_membership           -0.7620      0.292     -2.607      0.009      -1.335      -0.189\n",
      "sorghum_sold              -1.7286      0.740     -2.337      0.019      -3.178      -0.279\n",
      "const                      1.7206      0.750      2.295      0.022       0.251       3.190\n",
      "==========================================================================================\n"
     ]
    },
    {
     "name": "stderr",
     "output_type": "stream",
     "text": [
      "/home/arnold/anaconda2/envs/py36/lib/python3.8/site-packages/statsmodels/tsa/tsatools.py:130: FutureWarning: In a future version of pandas all arguments of concat except for the argument 'objs' will be keyword-only\n",
      "  x = pd.concat(x[::order], 1)\n"
     ]
    }
   ],
   "source": [
    "#Implementing the model\n",
    "import statsmodels.api as sm\n",
    "from statsmodels.discrete.discrete_model import Probit\n",
    "\n",
    "X = features\n",
    "y = df_all[['FIES_status']]\n",
    "\n",
    "X = sm.add_constant(X, prepend = False)\n",
    "\n",
    "model = Probit(y, X.astype(float))\n",
    "probit_model = model.fit()\n",
    "print(probit_model.summary())\n"
   ]
  },
  {
   "cell_type": "code",
   "execution_count": 39,
   "metadata": {},
   "outputs": [
    {
     "ename": "AttributeError",
     "evalue": "'ProbitResults' object has no attribute 'coef_'",
     "output_type": "error",
     "traceback": [
      "\u001b[0;31m---------------------------------------------------------------------------\u001b[0m",
      "\u001b[0;31mAttributeError\u001b[0m                            Traceback (most recent call last)",
      "\u001b[0;32m<ipython-input-39-b8501996d320>\u001b[0m in \u001b[0;36m<module>\u001b[0;34m\u001b[0m\n\u001b[0;32m----> 1\u001b[0;31m \u001b[0mprobit_model\u001b[0m\u001b[0;34m.\u001b[0m\u001b[0mcoef_\u001b[0m\u001b[0;34m\u001b[0m\u001b[0;34m\u001b[0m\u001b[0m\n\u001b[0m",
      "\u001b[0;32m~/anaconda2/envs/py36/lib/python3.8/site-packages/statsmodels/base/wrapper.py\u001b[0m in \u001b[0;36m__getattribute__\u001b[0;34m(self, attr)\u001b[0m\n\u001b[1;32m     34\u001b[0m             \u001b[0;32mpass\u001b[0m\u001b[0;34m\u001b[0m\u001b[0;34m\u001b[0m\u001b[0m\n\u001b[1;32m     35\u001b[0m \u001b[0;34m\u001b[0m\u001b[0m\n\u001b[0;32m---> 36\u001b[0;31m         \u001b[0mobj\u001b[0m \u001b[0;34m=\u001b[0m \u001b[0mgetattr\u001b[0m\u001b[0;34m(\u001b[0m\u001b[0mresults\u001b[0m\u001b[0;34m,\u001b[0m \u001b[0mattr\u001b[0m\u001b[0;34m)\u001b[0m\u001b[0;34m\u001b[0m\u001b[0;34m\u001b[0m\u001b[0m\n\u001b[0m\u001b[1;32m     37\u001b[0m         \u001b[0mdata\u001b[0m \u001b[0;34m=\u001b[0m \u001b[0mresults\u001b[0m\u001b[0;34m.\u001b[0m\u001b[0mmodel\u001b[0m\u001b[0;34m.\u001b[0m\u001b[0mdata\u001b[0m\u001b[0;34m\u001b[0m\u001b[0;34m\u001b[0m\u001b[0m\n\u001b[1;32m     38\u001b[0m         \u001b[0mhow\u001b[0m \u001b[0;34m=\u001b[0m \u001b[0mself\u001b[0m\u001b[0;34m.\u001b[0m\u001b[0m_wrap_attrs\u001b[0m\u001b[0;34m.\u001b[0m\u001b[0mget\u001b[0m\u001b[0;34m(\u001b[0m\u001b[0mattr\u001b[0m\u001b[0;34m)\u001b[0m\u001b[0;34m\u001b[0m\u001b[0;34m\u001b[0m\u001b[0m\n",
      "\u001b[0;31mAttributeError\u001b[0m: 'ProbitResults' object has no attribute 'coef_'"
     ]
    }
   ],
   "source": [
    "probit_model.coef_"
   ]
  },
  {
   "cell_type": "code",
   "execution_count": null,
   "metadata": {},
   "outputs": [],
   "source": []
  }
 ],
 "metadata": {
  "kernelspec": {
   "display_name": "Python 3",
   "language": "python",
   "name": "python3"
  },
  "language_info": {
   "codemirror_mode": {
    "name": "ipython",
    "version": 3
   },
   "file_extension": ".py",
   "mimetype": "text/x-python",
   "name": "python",
   "nbconvert_exporter": "python",
   "pygments_lexer": "ipython3",
   "version": "3.8.1"
  }
 },
 "nbformat": 4,
 "nbformat_minor": 4
}
